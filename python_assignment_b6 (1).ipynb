{
  "cells": [
    {
      "cell_type": "markdown",
      "id": "d2328cad",
      "metadata": {
        "id": "d2328cad"
      },
      "source": [
        "# Python Basics Assignment"
      ]
    },
    {
      "cell_type": "markdown",
      "id": "cb537954",
      "metadata": {
        "id": "cb537954"
      },
      "source": [
        "### Question 1\n",
        "Write a function to compute number of vowels in a string given as input"
      ]
    },
    {
      "cell_type": "code",
      "execution_count": 9,
      "id": "cf213ba2",
      "metadata": {
        "colab": {
          "base_uri": "https://localhost:8080/"
        },
        "id": "cf213ba2",
        "outputId": "8bbf789f-405a-4461-f9cf-4d978e604918"
      },
      "outputs": [
        {
          "output_type": "stream",
          "name": "stdout",
          "text": [
            "3\n"
          ]
        }
      ],
      "source": [
        "def count_vowels(string):\n",
        "    vowels = \"aeiouAEIOU\"\n",
        "    count = 0\n",
        "    for char in string:\n",
        "        if char in vowels:\n",
        "            count += 1\n",
        "    return count\n",
        "\n",
        "print(count_vowels(\"Hello, World!\"))\n"
      ]
    },
    {
      "cell_type": "markdown",
      "id": "4eaff430",
      "metadata": {
        "id": "4eaff430"
      },
      "source": [
        "### Question 2\n",
        "Write a function that checks whether a number is prime."
      ]
    },
    {
      "cell_type": "code",
      "execution_count": 3,
      "id": "81934cf7",
      "metadata": {
        "colab": {
          "base_uri": "https://localhost:8080/"
        },
        "id": "81934cf7",
        "outputId": "2d22b104-6eb7-4ddc-c746-25268ee9d7e5"
      },
      "outputs": [
        {
          "output_type": "stream",
          "name": "stdout",
          "text": [
            "True\n"
          ]
        }
      ],
      "source": [
        "def is_prime(number):\n",
        "    if number < 2:\n",
        "        return False\n",
        "    for i in range(2, int(number ** 0.5) + 1):\n",
        "        if number % i == 0:\n",
        "            return False\n",
        "    return True\n",
        "\n",
        "print(is_prime(17))"
      ]
    },
    {
      "cell_type": "markdown",
      "id": "5f061e50",
      "metadata": {
        "id": "5f061e50"
      },
      "source": [
        "### Question 3\n",
        "Write a function to return the maximum of two numbers."
      ]
    },
    {
      "cell_type": "code",
      "execution_count": 4,
      "id": "44e2a596",
      "metadata": {
        "colab": {
          "base_uri": "https://localhost:8080/"
        },
        "id": "44e2a596",
        "outputId": "615ff181-d6de-4176-e8a6-c7633827c575"
      },
      "outputs": [
        {
          "output_type": "stream",
          "name": "stdout",
          "text": [
            "10\n"
          ]
        }
      ],
      "source": [
        "def find_max(a, b):\n",
        "    if a > b:\n",
        "        return a\n",
        "    else:\n",
        "        return b\n",
        "\n",
        "print(find_max(5, 10))"
      ]
    },
    {
      "cell_type": "markdown",
      "id": "7513ca91",
      "metadata": {
        "id": "7513ca91"
      },
      "source": [
        "### Question 4\n",
        "Write a function to return the factorial of a number."
      ]
    },
    {
      "cell_type": "code",
      "execution_count": 5,
      "id": "6617842f",
      "metadata": {
        "colab": {
          "base_uri": "https://localhost:8080/"
        },
        "id": "6617842f",
        "outputId": "f06cdfa8-cb3a-4449-a4c0-fdb534a1bd55"
      },
      "outputs": [
        {
          "output_type": "stream",
          "name": "stdout",
          "text": [
            "120\n"
          ]
        }
      ],
      "source": [
        "def factorial(n):\n",
        "    if n == 0:\n",
        "        return 1\n",
        "    else:\n",
        "        result = 1\n",
        "        for i in range(1, n + 1):\n",
        "            result *= i\n",
        "        return result\n",
        "\n",
        "print(factorial(5))"
      ]
    },
    {
      "cell_type": "markdown",
      "id": "9b942098",
      "metadata": {
        "id": "9b942098"
      },
      "source": [
        "### Question 5\n",
        "Write a function to reverse a string without string indexing."
      ]
    },
    {
      "cell_type": "code",
      "execution_count": 6,
      "id": "d606b194",
      "metadata": {
        "colab": {
          "base_uri": "https://localhost:8080/"
        },
        "id": "d606b194",
        "outputId": "51bc48a1-fef3-45ed-d169-e830667962a2"
      },
      "outputs": [
        {
          "output_type": "stream",
          "name": "stdout",
          "text": [
            "olleH\n"
          ]
        }
      ],
      "source": [
        "def reverse_string(string):\n",
        "    reversed_string = \"\"\n",
        "    for i in range(len(string) - 1, -1, -1):\n",
        "        reversed_string += string[i]\n",
        "    return reversed_string\n",
        "\n",
        "print(reverse_string(\"Hello\"))"
      ]
    },
    {
      "cell_type": "markdown",
      "id": "1abd915b",
      "metadata": {
        "id": "1abd915b"
      },
      "source": [
        "### Question 6\n",
        "Write a function to check if a string is a palindrome."
      ]
    },
    {
      "cell_type": "code",
      "execution_count": 7,
      "id": "2b868fb3",
      "metadata": {
        "colab": {
          "base_uri": "https://localhost:8080/"
        },
        "id": "2b868fb3",
        "outputId": "9283a182-4fb6-49f4-ed88-00c2bb470f21"
      },
      "outputs": [
        {
          "output_type": "stream",
          "name": "stdout",
          "text": [
            "True\n"
          ]
        }
      ],
      "source": [
        "def is_palindrome(string):\n",
        "    reversed_string = reverse_string(string)\n",
        "    if string == reversed_string:\n",
        "        return True\n",
        "    else:\n",
        "        return False\n",
        "\n",
        "print(is_palindrome(\"madam\"))"
      ]
    },
    {
      "cell_type": "markdown",
      "id": "5f2f3791",
      "metadata": {
        "id": "5f2f3791"
      },
      "source": [
        "### Question 7\n",
        "Write a function to count vowels in a string."
      ]
    },
    {
      "cell_type": "code",
      "execution_count": 8,
      "id": "73fefa50",
      "metadata": {
        "colab": {
          "base_uri": "https://localhost:8080/"
        },
        "id": "73fefa50",
        "outputId": "3e41da70-c1a7-4808-b94f-fde16fa9a09d"
      },
      "outputs": [
        {
          "output_type": "stream",
          "name": "stdout",
          "text": [
            "2\n"
          ]
        }
      ],
      "source": [
        "def count_vowels(string):\n",
        "    vowels = \"aeiouAEIOU\"\n",
        "    count = 0\n",
        "    for char in string:\n",
        "        if char in vowels:\n",
        "            count += 1\n",
        "    return count\n",
        "\n",
        "print(count_vowels(\"Hello\"))"
      ]
    },
    {
      "cell_type": "markdown",
      "id": "0d3a9996",
      "metadata": {
        "id": "0d3a9996"
      },
      "source": [
        "### Question 8\n",
        "Write a function that returns the sum of a list."
      ]
    },
    {
      "cell_type": "code",
      "execution_count": 10,
      "id": "ab6afc66",
      "metadata": {
        "colab": {
          "base_uri": "https://localhost:8080/"
        },
        "id": "ab6afc66",
        "outputId": "523e0619-07d5-4d00-8684-4b422a43f1d1"
      },
      "outputs": [
        {
          "output_type": "stream",
          "name": "stdout",
          "text": [
            "15\n"
          ]
        }
      ],
      "source": [
        "def sum_list(lst):\n",
        "    total = 0\n",
        "    for num in lst:\n",
        "        total += num\n",
        "    return total\n",
        "\n",
        "print(sum_list([1, 2, 3, 4, 5]))\n",
        ""
      ]
    },
    {
      "cell_type": "markdown",
      "id": "f6682500",
      "metadata": {
        "id": "f6682500"
      },
      "source": [
        "### Question 9\n",
        "Write a function to find the smallest number in a list."
      ]
    },
    {
      "cell_type": "code",
      "execution_count": 13,
      "id": "6798a641",
      "metadata": {
        "colab": {
          "base_uri": "https://localhost:8080/"
        },
        "id": "6798a641",
        "outputId": "44a09f6b-4be4-4b6b-f5f2-ffec6003065f"
      },
      "outputs": [
        {
          "output_type": "stream",
          "name": "stdout",
          "text": [
            "1\n"
          ]
        }
      ],
      "source": [
        "def find_smallest(lst):\n",
        "    smallest = lst[0]\n",
        "    for num in lst:\n",
        "        if num < smallest:\n",
        "            smallest = num\n",
        "    return smallest\n",
        "\n",
        "print(find_smallest([3, 5, 1, 2, 4]))"
      ]
    },
    {
      "cell_type": "markdown",
      "id": "fb11e683",
      "metadata": {
        "id": "fb11e683"
      },
      "source": [
        "### Question 10\n",
        "Write a function to remove duplicates from a list."
      ]
    },
    {
      "cell_type": "code",
      "execution_count": 15,
      "id": "7c53f88c",
      "metadata": {
        "colab": {
          "base_uri": "https://localhost:8080/"
        },
        "id": "7c53f88c",
        "outputId": "8e96e7e4-7703-4759-8ea5-1ae8242978d3"
      },
      "outputs": [
        {
          "output_type": "stream",
          "name": "stdout",
          "text": [
            "[1, 2, 3, 4, 5]\n"
          ]
        }
      ],
      "source": [
        "def remove_duplicates(lst):\n",
        "    unique_list = []\n",
        "    for num in lst:\n",
        "        if num not in unique_list:\n",
        "            unique_list.append(num)\n",
        "    return unique_list\n",
        "\n",
        "print(remove_duplicates([1, 2, 2, 3, 4, 4, 5]))"
      ]
    },
    {
      "cell_type": "markdown",
      "id": "9c380a5c",
      "metadata": {
        "id": "9c380a5c"
      },
      "source": [
        "### Question 11\n",
        "Write a function to sort a list in ascending order without using builtin sort function"
      ]
    },
    {
      "cell_type": "code",
      "execution_count": 18,
      "id": "8e43832f",
      "metadata": {
        "colab": {
          "base_uri": "https://localhost:8080/"
        },
        "id": "8e43832f",
        "outputId": "80ad3f3d-9083-4bb5-db6e-19d63400d007"
      },
      "outputs": [
        {
          "output_type": "stream",
          "name": "stdout",
          "text": [
            "[1, 2, 3, 4, 5]\n"
          ]
        }
      ],
      "source": [
        "def sort_list(lst):\n",
        "    for i in range(len(lst)):\n",
        "        for j in range(i + 1, len(lst)):\n",
        "            if lst[i] > lst[j]:\n",
        "                lst[i], lst[j] = lst[j], lst[i]\n",
        "    return lst\n",
        "\n",
        "print(sort_list([3, 5, 1, 2, 4]))\n",
        "\n"
      ]
    },
    {
      "cell_type": "markdown",
      "id": "1270c91c",
      "metadata": {
        "id": "1270c91c"
      },
      "source": [
        "### Question 12\n",
        "Write a function that returns the length of a string."
      ]
    },
    {
      "cell_type": "code",
      "execution_count": 19,
      "id": "87f35472",
      "metadata": {
        "colab": {
          "base_uri": "https://localhost:8080/"
        },
        "id": "87f35472",
        "outputId": "b531188a-7612-4ba4-ae23-f42207eee2ff"
      },
      "outputs": [
        {
          "output_type": "stream",
          "name": "stdout",
          "text": [
            "5\n"
          ]
        }
      ],
      "source": [
        "def length_of_string(string):\n",
        "    count = 0\n",
        "    for char in string:\n",
        "        count += 1\n",
        "    return count\n",
        "\n",
        "print(length_of_string(\"Hello\"))"
      ]
    },
    {
      "cell_type": "markdown",
      "id": "9a8e3d28",
      "metadata": {
        "id": "9a8e3d28"
      },
      "source": [
        "### Question 13\n",
        "Write a function to count words in a sentence."
      ]
    },
    {
      "cell_type": "code",
      "execution_count": 20,
      "id": "e6f996ef",
      "metadata": {
        "colab": {
          "base_uri": "https://localhost:8080/"
        },
        "id": "e6f996ef",
        "outputId": "0ad9a4b7-e123-4922-c2ff-add8e5fdafda"
      },
      "outputs": [
        {
          "output_type": "stream",
          "name": "stdout",
          "text": [
            "4\n"
          ]
        }
      ],
      "source": [
        "def count_words(sentence):\n",
        "    words = sentence.split()\n",
        "    return len(words)\n",
        "\n",
        "print(count_words(\"Hello, how are you?\"))"
      ]
    },
    {
      "cell_type": "markdown",
      "id": "430c2e4a",
      "metadata": {
        "id": "430c2e4a"
      },
      "source": [
        "### Question 14\n",
        "Write a function to convert Celsius to Fahrenheit."
      ]
    },
    {
      "cell_type": "code",
      "execution_count": 21,
      "id": "b710b0bd",
      "metadata": {
        "colab": {
          "base_uri": "https://localhost:8080/"
        },
        "id": "b710b0bd",
        "outputId": "86722c0c-d758-426a-a3b6-07b24496003a"
      },
      "outputs": [
        {
          "output_type": "stream",
          "name": "stdout",
          "text": [
            "77.0\n"
          ]
        }
      ],
      "source": [
        "def celsius_to_fahrenheit(celsius):\n",
        "    fahrenheit = (celsius * 9/5) + 32\n",
        "    return fahrenheit\n",
        "\n",
        "print(celsius_to_fahrenheit(25))"
      ]
    },
    {
      "cell_type": "markdown",
      "id": "acefe5e3",
      "metadata": {
        "id": "acefe5e3"
      },
      "source": [
        "### Question 15\n",
        "Write a function to check if a number is palindrome."
      ]
    },
    {
      "cell_type": "code",
      "execution_count": 22,
      "id": "b700abae",
      "metadata": {
        "colab": {
          "base_uri": "https://localhost:8080/"
        },
        "id": "b700abae",
        "outputId": "98dcad38-4b5b-41cf-ab45-d46249d01cf4"
      },
      "outputs": [
        {
          "output_type": "stream",
          "name": "stdout",
          "text": [
            "True\n"
          ]
        }
      ],
      "source": [
        "def is_palindrome(number):\n",
        "    number_str = str(number)\n",
        "    if number_str == number_str[::-1]:\n",
        "        return True\n",
        "    else:\n",
        "        return False\n",
        "\n",
        "print(is_palindrome(121))"
      ]
    },
    {
      "cell_type": "markdown",
      "id": "b63452cb",
      "metadata": {
        "id": "b63452cb"
      },
      "source": [
        "### Question 16\n",
        "Write a function to return all even numbers in a list."
      ]
    },
    {
      "cell_type": "code",
      "execution_count": 23,
      "id": "9d1fc968",
      "metadata": {
        "colab": {
          "base_uri": "https://localhost:8080/"
        },
        "id": "9d1fc968",
        "outputId": "71b420ec-297e-4090-d403-fb67fdd61414"
      },
      "outputs": [
        {
          "output_type": "stream",
          "name": "stdout",
          "text": [
            "[2, 4]\n"
          ]
        }
      ],
      "source": [
        "def even_numbers(lst):\n",
        "    even_list = []\n",
        "    for num in lst:\n",
        "        if num % 2 == 0:\n",
        "            even_list.append(num)\n",
        "    return even_list\n",
        "print(even_numbers([3, 5, 1, 2, 4]))"
      ]
    },
    {
      "cell_type": "markdown",
      "id": "aca524d9",
      "metadata": {
        "id": "aca524d9"
      },
      "source": [
        "### Question 17\n",
        "Write a function to return the nth Fibonacci number."
      ]
    },
    {
      "cell_type": "code",
      "execution_count": 28,
      "id": "97dc4e87",
      "metadata": {
        "colab": {
          "base_uri": "https://localhost:8080/"
        },
        "id": "97dc4e87",
        "outputId": "a3a436fe-abff-41c8-8c8d-a0087f31b454"
      },
      "outputs": [
        {
          "output_type": "stream",
          "name": "stdout",
          "text": [
            "13\n"
          ]
        }
      ],
      "source": [
        "def fibonacci(n):\n",
        "    if n == 0:\n",
        "        return 0\n",
        "    elif n == 1:\n",
        "        return 1\n",
        "\n",
        "    else:\n",
        "        a, b = 0, 1\n",
        "        for i in range(2, n + 1):\n",
        "            c = a + b\n",
        "            a = b\n",
        "            b = c\n",
        "        return b\n",
        "\n",
        "print(fibonacci(7))"
      ]
    },
    {
      "cell_type": "markdown",
      "id": "29c847dc",
      "metadata": {
        "id": "29c847dc"
      },
      "source": [
        "### Question 18\n",
        "Write a function to calculate the average of a list."
      ]
    },
    {
      "cell_type": "code",
      "execution_count": 30,
      "id": "9adc9fd2",
      "metadata": {
        "colab": {
          "base_uri": "https://localhost:8080/"
        },
        "id": "9adc9fd2",
        "outputId": "026197e9-95ad-4f9e-8e61-55fd9c2a2773"
      },
      "outputs": [
        {
          "output_type": "stream",
          "name": "stdout",
          "text": [
            "3.0\n"
          ]
        }
      ],
      "source": [
        "def average(lst):\n",
        "    total = 0\n",
        "    for num in lst:\n",
        "        total += num\n",
        "    return total / len(lst)\n",
        "\n",
        "print(average([3, 5, 1, 2, 4]))"
      ]
    },
    {
      "cell_type": "markdown",
      "id": "420240fb",
      "metadata": {
        "id": "420240fb"
      },
      "source": [
        "### Question 19\n",
        "Write a function that returns a dictionary of character counts."
      ]
    },
    {
      "cell_type": "code",
      "execution_count": 29,
      "id": "95cafc54",
      "metadata": {
        "colab": {
          "base_uri": "https://localhost:8080/"
        },
        "id": "95cafc54",
        "outputId": "982cf303-432f-45aa-999f-5b2d858227b7"
      },
      "outputs": [
        {
          "output_type": "stream",
          "name": "stdout",
          "text": [
            "{'h': 1, 'e': 1, 'l': 2, 'o': 1}\n"
          ]
        }
      ],
      "source": [
        "def char_count(string):\n",
        "    count = {}\n",
        "    for char in string:\n",
        "        if char in count:\n",
        "            count[char] += 1\n",
        "        else:\n",
        "            count[char] = 1\n",
        "    return count\n",
        "\n",
        "print(char_count(\"hello\"))"
      ]
    },
    {
      "cell_type": "markdown",
      "id": "17629a07",
      "metadata": {
        "id": "17629a07"
      },
      "source": [
        "### Question 20\n",
        "Write a function that returns True if all list elements are unique."
      ]
    },
    {
      "cell_type": "code",
      "execution_count": 31,
      "id": "fe4f8820",
      "metadata": {
        "colab": {
          "base_uri": "https://localhost:8080/"
        },
        "id": "fe4f8820",
        "outputId": "a48296c7-9552-4abd-e2b8-dd7d45705153"
      },
      "outputs": [
        {
          "output_type": "stream",
          "name": "stdout",
          "text": [
            "True\n",
            "False\n"
          ]
        }
      ],
      "source": [
        "def is_unique(lst):\n",
        "    unique_list = []\n",
        "    for num in lst:\n",
        "        if num in unique_list:\n",
        "            return False\n",
        "        else:\n",
        "            unique_list.append(num)\n",
        "    return True\n",
        "print(is_unique([1, 2, 3, 4, 5]))\n",
        "print(is_unique([1, 2, 2, 3, 4, 5]))"
      ]
    },
    {
      "cell_type": "markdown",
      "id": "91dc87b9",
      "metadata": {
        "id": "91dc87b9"
      },
      "source": [
        "### Question 21\n",
        "Write a function that returns dot product of two list of numbers"
      ]
    },
    {
      "cell_type": "code",
      "execution_count": 41,
      "id": "87c3fa4b",
      "metadata": {
        "colab": {
          "base_uri": "https://localhost:8080/"
        },
        "id": "87c3fa4b",
        "outputId": "66b44bd1-bc3b-4e19-ef4a-80c714e57f8a"
      },
      "outputs": [
        {
          "output_type": "stream",
          "name": "stdout",
          "text": [
            "38\n"
          ]
        }
      ],
      "source": [
        "def dot_product(lst1, lst2):\n",
        "    product = 0\n",
        "    for i in range(len(lst1)):\n",
        "        product += lst1[i] * lst2[i]\n",
        "    return product\n",
        "\n",
        "print(dot_product([1, 2, 3], [5, 6, 7]))"
      ]
    },
    {
      "cell_type": "markdown",
      "id": "5eeb0527",
      "metadata": {
        "id": "5eeb0527"
      },
      "source": [
        "### Question 22\n",
        "Write a function that returns the projection of vector a onto vector b. Both a and b are given as list of numbers"
      ]
    },
    {
      "cell_type": "code",
      "execution_count": 47,
      "id": "d2c2439f",
      "metadata": {
        "colab": {
          "base_uri": "https://localhost:8080/"
        },
        "id": "d2c2439f",
        "outputId": "35c95caa-a093-49cd-ced9-d6bfed5ae20d"
      },
      "outputs": [
        {
          "output_type": "stream",
          "name": "stdout",
          "text": [
            "[2.2, 4.4]\n"
          ]
        }
      ],
      "source": [
        "def projection(a, b):\n",
        "    dot_product = 0\n",
        "    for i in range(len(a)):\n",
        "        dot_product += a[i] * b[i]\n",
        "    magnitude_b = 0\n",
        "    for i in range(len(b)):\n",
        "        magnitude_b += b[i] ** 2\n",
        "    scalar= dot_product / magnitude_b\n",
        "    projection = []\n",
        "    for i in range(len(b)):\n",
        "        projection.append(scalar*b[i])\n",
        "    return projection\n",
        "\n",
        "print(projection([3,4], [1,2]))"
      ]
    },
    {
      "cell_type": "markdown",
      "id": "1410b385",
      "metadata": {
        "id": "1410b385"
      },
      "source": [
        "### Question 23\n",
        "Write a function to return common elements between two lists."
      ]
    },
    {
      "cell_type": "code",
      "execution_count": 48,
      "id": "2cee584c",
      "metadata": {
        "colab": {
          "base_uri": "https://localhost:8080/"
        },
        "id": "2cee584c",
        "outputId": "db08b8a2-1162-493e-d1d8-f61d4e505d38"
      },
      "outputs": [
        {
          "output_type": "stream",
          "name": "stdout",
          "text": [
            "[3, 4, 5]\n"
          ]
        }
      ],
      "source": [
        "def common_elements(lst1, lst2):\n",
        "    common_list = []\n",
        "    for num in lst1:\n",
        "        if num in lst2:\n",
        "            common_list.append(num)\n",
        "    return common_list\n",
        "\n",
        "print(common_elements([1, 2, 3, 4, 5], [3, 4, 5, 6, 7]))"
      ]
    },
    {
      "cell_type": "markdown",
      "id": "23ab5210",
      "metadata": {
        "id": "23ab5210"
      },
      "source": [
        "### Question 24\n",
        "Create a class Vector that supports addition, dot product, and magnitude."
      ]
    },
    {
      "cell_type": "code",
      "execution_count": 55,
      "id": "f6b18fd7",
      "metadata": {
        "colab": {
          "base_uri": "https://localhost:8080/"
        },
        "id": "f6b18fd7",
        "outputId": "cf9399b4-aa90-45bc-f092-e3cd5673cfe2"
      },
      "outputs": [
        {
          "output_type": "stream",
          "name": "stdout",
          "text": [
            "[5, 7, 9]\n",
            "32\n",
            "3.7416573867739413\n"
          ]
        }
      ],
      "source": [
        "import math\n",
        "\n",
        "class Vector:\n",
        "    def __init__(self, vector):\n",
        "        self.vector = vector\n",
        "\n",
        "    def magnitude(self):\n",
        "        magnitude = 0\n",
        "        for i in range(len(self.vector)):\n",
        "            magnitude += self.vector[i] ** 2\n",
        "        return magnitude ** 0.5\n",
        "\n",
        "    def dot_product(self, other):\n",
        "        dot_product = 0\n",
        "        for i in range(len(self.vector)):\n",
        "            dot_product += self.vector[i] * other.vector[i]\n",
        "        return dot_product\n",
        "\n",
        "    def __add__(self, other):\n",
        "        add_vector = []\n",
        "        for i in range(len(self.vector)):\n",
        "            add_vector.append(self.vector[i] + other.vector[i])\n",
        "        return Vector(add_vector)\n",
        "\n",
        "    def __repr__(self):\n",
        "        return str(self.vector)\n",
        "\n",
        "vector1 = Vector([1, 2, 3])\n",
        "vector2 = Vector([4, 5, 6])\n",
        "print(vector1+vector2)\n",
        "print(vector1.dot_product(vector2))\n",
        "print(vector1.magnitude())"
      ]
    },
    {
      "cell_type": "markdown",
      "id": "a0621aba",
      "metadata": {
        "id": "a0621aba"
      },
      "source": [
        "### Question 25\n",
        "Implement a function to return all outliers in a list based on the IQR method."
      ]
    },
    {
      "cell_type": "code",
      "execution_count": 57,
      "id": "460a8994",
      "metadata": {
        "colab": {
          "base_uri": "https://localhost:8080/"
        },
        "id": "460a8994",
        "outputId": "5543626f-bc54-4b34-c166-119227269e77"
      },
      "outputs": [
        {
          "output_type": "stream",
          "name": "stdout",
          "text": [
            "[100]\n"
          ]
        }
      ],
      "source": [
        "def find_outliers_iqr(data):\n",
        "  if not data:\n",
        "    return[]\n",
        "  sorted_data=sorted(data)\n",
        "  n=len(sorted_data)\n",
        "\n",
        "  def median(lst):\n",
        "    m=len(lst)\n",
        "    mid=m//2\n",
        "    if m%2==0:\n",
        "      return (lst[mid-1]+lst[mid])/2\n",
        "    else:\n",
        "      return lst[mid]\n",
        "  mid_index=n//2\n",
        "  if n%2==0:\n",
        "    lower_half=sorted_data[:mid_index]\n",
        "    upper_half=sorted_data[mid_index:]\n",
        "  else:\n",
        "    lower_half=sorted_data[:mid_index]\n",
        "    upper_half=sorted_data[mid_index+1:]\n",
        "  q1=median(lower_half)\n",
        "  q3=median(upper_half)\n",
        "  iqr=q3-q1\n",
        "  lower_bound=q1-1.5*iqr\n",
        "  upper_bound=q3+1.5*iqr\n",
        "  return [x for x in data if x<lower_bound or x>upper_bound]\n",
        "print(find_outliers_iqr([10,12,14,15,18,19,20,100]))"
      ]
    },
    {
      "cell_type": "markdown",
      "id": "f0be510e",
      "metadata": {
        "id": "f0be510e"
      },
      "source": [
        "### Question 26\n",
        "Function with default arguments:\n",
        "Create a function to compute variance with an option to use sample or population formula"
      ]
    },
    {
      "cell_type": "code",
      "execution_count": 61,
      "id": "941d732d",
      "metadata": {
        "colab": {
          "base_uri": "https://localhost:8080/"
        },
        "id": "941d732d",
        "outputId": "ca747914-3800-4d3c-8a2f-11cbc4e20072"
      },
      "outputs": [
        {
          "output_type": "stream",
          "name": "stdout",
          "text": [
            "2.5\n",
            "2.0\n"
          ]
        }
      ],
      "source": [
        "def variance(data, sample=True):\n",
        "  if not data:\n",
        "    raise ValueError(\"Input list is empty\")\n",
        "  n=len(data)\n",
        "  if sample and n<2:\n",
        "    raise ValueError(\"Sample variance requires at least two data points\")\n",
        "  mean=sum(data)/n\n",
        "  squared_diff=[(x-mean)**2 for x in data]\n",
        "  if sample:\n",
        "    return sum(squared_diff)/(n-1)\n",
        "  else:\n",
        "    return sum(squared_diff)/n\n",
        "\n",
        "data = [1, 2, 3, 4, 5]\n",
        "print(variance(data))\n",
        "print(variance(data, sample=False))\n"
      ]
    },
    {
      "cell_type": "markdown",
      "id": "c39be0f1",
      "metadata": {
        "id": "c39be0f1"
      },
      "source": [
        "### Question 27\n",
        "Create a list of squares of even numbers between 1 and 20 using list comprehension."
      ]
    },
    {
      "cell_type": "code",
      "execution_count": 62,
      "id": "9e4ba74a",
      "metadata": {
        "colab": {
          "base_uri": "https://localhost:8080/"
        },
        "id": "9e4ba74a",
        "outputId": "f6758c56-6e68-4c08-9156-fb737756f308"
      },
      "outputs": [
        {
          "output_type": "stream",
          "name": "stdout",
          "text": [
            "[4, 16, 36, 64, 100, 144, 196, 256, 324, 400]\n"
          ]
        }
      ],
      "source": [
        "def even_squares():\n",
        "  return [x**2 for x in range(2,21,2)]\n",
        "print(even_squares())"
      ]
    },
    {
      "cell_type": "markdown",
      "id": "b43c266d",
      "metadata": {
        "id": "b43c266d"
      },
      "source": [
        "### Question 28\n",
        "Write a function that returns the L1 and L2 norms of a vector given as list"
      ]
    },
    {
      "cell_type": "code",
      "execution_count": 64,
      "id": "4f5dc876",
      "metadata": {
        "colab": {
          "base_uri": "https://localhost:8080/"
        },
        "id": "4f5dc876",
        "outputId": "083e8c0d-63ff-4fe1-a116-e92946666f98"
      },
      "outputs": [
        {
          "output_type": "stream",
          "name": "stdout",
          "text": [
            "(6, 3.7416573867739413)\n"
          ]
        }
      ],
      "source": [
        "def l1_l2_norm(vector):\n",
        "  l1_norm=sum([abs(x) for x in vector])\n",
        "  l2_norm=sum([x**2 for x in vector])**0.5\n",
        "  return l1_norm,l2_norm\n",
        "\n",
        "print(l1_l2_norm([1,2,3]))"
      ]
    },
    {
      "cell_type": "markdown",
      "id": "2007915f",
      "metadata": {
        "id": "2007915f"
      },
      "source": [
        "### Question 29\n",
        "Write a function that computes the 95% confidence interval for the mean of a list of numbers assuming normal distribution."
      ]
    },
    {
      "cell_type": "code",
      "execution_count": 66,
      "id": "8634dc63",
      "metadata": {
        "colab": {
          "base_uri": "https://localhost:8080/"
        },
        "id": "8634dc63",
        "outputId": "f3895c34-2c24-4a3e-bc64-48476635f6e6"
      },
      "outputs": [
        {
          "output_type": "stream",
          "name": "stdout",
          "text": [
            "(1.6140707088743669, 4.385929291125633)\n"
          ]
        }
      ],
      "source": [
        "def confidence_interval(data):\n",
        "  if not data:\n",
        "    raise ValueError(\"Input list is empty\")\n",
        "  n=len(data)\n",
        "  mean=sum(data)/n\n",
        "  std=(sum([(x-mean)**2 for x in data])/(n-1))**0.5\n",
        "  lower_bound=mean-1.96*std/n**0.5\n",
        "  upper_bound=mean+1.96*std/n**0.5\n",
        "  return lower_bound,upper_bound\n",
        "data=[1,2,3,4,5]\n",
        "print(confidence_interval(data))\n",
        ""
      ]
    },
    {
      "cell_type": "markdown",
      "id": "08df3afb",
      "metadata": {
        "id": "08df3afb"
      },
      "source": [
        "### Question 30\n",
        "Given a list of categorical values, create a frequency distribution dictionary."
      ]
    },
    {
      "cell_type": "code",
      "execution_count": 67,
      "id": "c9b88531",
      "metadata": {
        "colab": {
          "base_uri": "https://localhost:8080/"
        },
        "id": "c9b88531",
        "outputId": "9aa46286-d5ae-4c76-f2d5-b1ad3c81d2ad"
      },
      "outputs": [
        {
          "output_type": "stream",
          "name": "stdout",
          "text": [
            "{'a': 3, 'b': 2, 'c': 1}\n"
          ]
        }
      ],
      "source": [
        "def frequency_distribution(data):\n",
        "  freq_dict={}\n",
        "  for item in data:\n",
        "    if item in freq_dict:\n",
        "      freq_dict[item] += 1\n",
        "    else:\n",
        "      freq_dict[item] = 1\n",
        "  return freq_dict\n",
        "data=['a','b','a','c','b','a']\n",
        "print(frequency_distribution(data))"
      ]
    }
  ],
  "metadata": {
    "language_info": {
      "name": "python"
    },
    "colab": {
      "provenance": []
    },
    "kernelspec": {
      "name": "python3",
      "display_name": "Python 3"
    }
  },
  "nbformat": 4,
  "nbformat_minor": 5
}